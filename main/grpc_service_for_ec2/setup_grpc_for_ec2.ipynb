{
 "metadata": {
  "language_info": {
   "codemirror_mode": {
    "name": "ipython",
    "version": 3
   },
   "file_extension": ".py",
   "mimetype": "text/x-python",
   "name": "python",
   "nbconvert_exporter": "python",
   "pygments_lexer": "ipython3",
   "version": 3
  },
  "orig_nbformat": 2
 },
 "nbformat": 4,
 "nbformat_minor": 2,
 "cells": [
  {
   "source": [
    "# SetUp gRPC service with EC2"
   ],
   "cell_type": "markdown",
   "metadata": {}
  },
  {
   "source": [
    "okay so the goal is to have an active gRPC service within an EC2 instance, and make service calls from a local client.\n",
    "\n",
    "\n",
    "The main part to figure out is that since gRPC is serving via HTTP2, then it might be a bit different.\n",
    "Also I need to practice the basics of working with AWS EC2 as well. so let's see..."
   ],
   "cell_type": "markdown",
   "metadata": {}
  },
  {
   "source": [
    "okay the first step was to set up the simple grpc service and client that we need for testings.\n",
    "I created the codes for that and  built it with docker and tested it.\n",
    "\n",
    "in this effort one question that came up was that if I wanted to have an easy way to make this reproducable and easy to run like the way it is with docker, what would be the approach for the case of EC2? would it be possible or reasonable to install a docker inside the EC2\n",
    "just to use for building/running an image? I guess not.\n",
    "\n",
    "(BTW, [this](https://docs.aws.amazon.com/AmazonECS/latest/developerguide/docker-basics.html) shows how to install docker in an ec2)\n"
   ],
   "cell_type": "markdown",
   "metadata": {}
  },
  {
   "source": [
    "well it apears to me that this work of service setup has two parts. one part in transfering and setting up the code in the EC2 and the other part is configuring the EC2 instance connection settings, etc. I'm going to first try to focus on the first part.\n",
    "\n",
    "let's say I want to make an easy2run readme file here for all that is needed for ec2 to run. of course there are all those fancy k8s and pipelines to deploy the codes and images, but i want to stick to bare minimum. \n",
    "\n",
    "I guess it would start from git clone this repo.\n",
    "oh wait assuming that git is available, which i guess is not, \n",
    "I guess maybe could start from yum to install git.\n",
    "\n",
    "then python 3.7 is already installed. It should be good enough for this purpose, but what if I was really needing 3.8?\n",
    "\n",
    "ok so I proceeded with the pip3 --user insttaltion of grpcio. but I get error\n",
    "\n",
    "```\n",
    "Command \"python setup.py egg_info\" failed with error code 1 in /tmp/pip-build-2mlrrjcs/grpcio/\n",
    "\n",
    "\n",
    " File \"/usr/lib64/python3.7/subprocess.py\", line 800, in __init__\n",
    "        restore_signals, start_new_session)\n",
    "      File \"/usr/lib64/python3.7/subprocess.py\", line 1551, in _execute_child\n",
    "        raise child_exception_type(errno_num, err_msg, err_filename)\n",
    "    FileNotFoundError: [Errno 2] No such file or directory: 'c++': 'c++'\n",
    "```\n",
    "\n",
    "maybe I should try to install python 3.8 here anyways?\n",
    "\n",
    "\n",
    "okay so I install the python 3.8 from this \n",
    "https://techviewleo.com/how-to-install-python-on-amazon-linux/\n",
    "\n",
    "then I run this :\n",
    "\n",
    "```\n",
    "python3.8 -m  pip install --user -r scripts/python_requirements.txt\n",
    "```\n",
    "or \n",
    "\n",
    "```\n",
    "sudo python3.8 -m  pip install  -r scripts/python_requirements.txt\n",
    "```\n",
    "\n",
    "again I get the same error.\n",
    "\n",
    "\n",
    "seems this issue is properly addressed here:\n",
    "\n",
    "https://github.com/grpc/grpc/issues/24556\n",
    "\n",
    "> I installed the Debian build-essentials meta-package as mentioned above. The packages that were missing for me were g++ and libstdc++\n",
    "\n",
    "\n",
    "so how to install these?\n",
    "\n",
    "okay looks like in order to install build-eesentials with yum  you need this \n",
    "\n",
    "https://serverfault.com/questions/204893/aws-ec2-and-build-essential/460295\n",
    "\n",
    "\n",
    "but this was not enough to have the pip working.\n",
    "let's try to instal g++ and libstdc++\n",
    "\n",
    "https://www.fir3net.com/UNIX/Linux/how-do-i-install-g-via-yum.html\n",
    "\n",
    "\n"
   ],
   "cell_type": "markdown",
   "metadata": {}
  },
  {
   "source": [
    "alright so the error in the installation of grpc in python was due to update g++ and libstdc++. nothing related to 3.8. so I can at least remove that part.\n"
   ],
   "cell_type": "markdown",
   "metadata": {}
  },
  {
   "source": [
    "okay, starting with a fresh ec2, I run these :\n",
    "\n",
    "```\n",
    "sudo yum install gcc-c++\n",
    "sudo yum install python3-devel\n",
    "sudo pip3 install --upgrade setuptools\n",
    "\n",
    "```\n",
    "\n",
    "according to [this](https://github.com/grpc/grpc/issues/24556)\n",
    "\n",
    "Re-visiting this issue after a few months...\n",
    "\n",
    "> I installed the Debian build-essentials meta-package as mentioned above. The packages that were missing for me were g++ and libstdc++\n",
    "After a couple of other updates (upgrading pip and setuptools) everything worked fine. Thanks for everyone's help ad input.\n",
    "\n",
    "\n",
    "so looks like a rough equivalent of build-essential in yum is from [here](https://serverfault.com/questions/204893/aws-ec2-and-build-essential/460295)\n",
    "\n",
    "\n",
    "```\n",
    "yum groupinstall \"Development Tools\"\n",
    "```\n",
    "\n",
    "well still fails!\n",
    "oaky so I next try to upgrade the pip itself\n",
    "\n",
    "```\n",
    "sudo pip3 install --upgrade pip\n",
    "```\n",
    "\n",
    "okay, now after that running the pip3 itself fails, since does not find the pip3. so for that I add it to the path.\n",
    "export PATH=\"/usr/local/bin/pip3:$PATH\"\n",
    "\n",
    "and then this time it did actually install the \"grpcio\"\n",
    "\n"
   ],
   "cell_type": "markdown",
   "metadata": {}
  },
  {
   "source": [
    "okay with all these I was able to run the server on the ec2"
   ],
   "cell_type": "markdown",
   "metadata": {}
  },
  {
   "source": [
    "## Sending Regests to the grpc serverON EC2 from a local client"
   ],
   "cell_type": "markdown",
   "metadata": {}
  },
  {
   "source": [
    "okay running the server on ec2, I wanted my client, i.e the test client on my local pc, to be able to send a request to it.\n",
    "\n",
    "I know that the grpc uses the http2 protocol.\n",
    "\n",
    "so it appears that it is realted to the security setting of ec2, and security groups.\n",
    "So when defining the security groups, I was looking for an option that would seem specific for grpc, but I couldn't find it.\n",
    "So in  the ec2 security settings I still tried adding http and https, but that does not work. So one option that was suggested [here](https://stackoverflow.com/questions/40027597/building-grpc-server-on-amazon-ec2) \n",
    "is to add a security group with \"all trafic\" option (of course just for a specific ip)\n",
    "I tried that and it works. I was able to get my cool response!\n",
    "\"Greeter client received: Hello, Bob!\"\n",
    "\n",
    "but this does not seem to be the right way to do it, so at least now we get what is the issue."
   ],
   "cell_type": "markdown",
   "metadata": {}
  },
  {
   "source": [
    "# Setup the gRPC service with EC2 lunch type the Proper way!"
   ],
   "cell_type": "markdown",
   "metadata": {}
  },
  {
   "source": [
    "okay so doing some search for this I found this article very useful:\n",
    "\n",
    "https://dev.to/chaitan94/deploying-a-grpc-service-in-ecs-with-the-ec2-launch-type-2aa\n",
    "\n",
    "\n",
    "(there were other stuff as well that kind of useful like [this](https://jitpaul.blog/2018/04/18/grpc-on-aws/) which is not addressing the part to actually send request to the server, but still is addressing the first part of this effort.)\n",
    "\n",
    "\n",
    "the approach in this link, involves creating a container from the service, put it on ECR, create a task defenition (on ECS?)\n",
    "and then  Setting up the target group and load balancer.\n",
    "This tutorial though assumes that we already have a loadbalancer on ec2.\n",
    "well which brings the question how to set up a load balancer?\n",
    "\n",
    "\n"
   ],
   "cell_type": "markdown",
   "metadata": {}
  },
  {
   "source": [
    "## Useful links on gRPC service setup with AWS EC2"
   ],
   "cell_type": "markdown",
   "metadata": {}
  },
  {
   "source": [
    "To My surprise there are not much of releavnt links that I could find on this topic on the internet. aprat from the one in above which is most relevant one, these are also related to this as well. I include all one more time for referece:\n",
    "\n",
    "https://dev.to/chaitan94/deploying-a-grpc-service-in-ecs-with-the-ec2-launch-type-2aa\n",
    "\n",
    "https://jitpaul.blog/2018/04/18/grpc-on-aws/\n",
    "\n",
    "https://grpc.io/blog/grpc-load-balancing/\n",
    "\n",
    "https://rokt.com/engineering_blog/learnings-grpc-aws/\n",
    "\n",
    "https://kvwu.io/posts/set-up-grpc-with-aws/\n",
    "\n",
    "https://aws.amazon.com/blogs/opensource/containerize-and-deploy-a-grpc-application-on-aws-fargate/\n",
    "\n",
    "https://prefab-465416.hs-sites.com/blog/grpc-aws-some-gotchas\n",
    "\n",
    "and last but not least \n",
    "https://stackoverflow.com/questions/50345084/deploy-grpc-supporting-application-on-aws-using-alb\n"
   ],
   "cell_type": "markdown",
   "metadata": {}
  },
  {
   "source": [
    "## Set up and Load Balancer (and Target Groups)"
   ],
   "cell_type": "markdown",
   "metadata": {}
  },
  {
   "source": [
    "okay so again going throught the tutorial, I faced the question \"what is a load balancer and how to set it up?\" \n",
    "\n",
    "\n",
    "so going through the aws tutorials did not give me anything but confusion\n",
    "I found this tutorial to be helpfull for basic load balancer set up\n",
    "https://www.youtube.com/watch?v=4gnMyhyVIg4\n",
    "\n",
    "then with a bit of effort I could set up a clasic load balancer (the way described in the youtube video above)\n",
    "which had an http listener.\n",
    "\n",
    "\n",
    "\n",
    "But that was not exactly what specified in the tutorial. it wanted an LB with https listener.\n",
    "So I tried to do that lb setup with https listener. I encounter the issue of certificates step in the set up.\n",
    "There is the ACM option to create a certificate, but it was really confusing as to why is that even needed, and what is this all about?\n",
    "plus going through the process of ACM certificate request, I relaized that I probably need to have a domain to be able to get that certificate. hmmm.\n",
    "So from this point, I had to spend lots and lots of running around to know what is next step.\n",
    "\n",
    "First I tried to see if I could setup the whole target group and assignment with the regular http LB, which was to no avail.\n",
    "I tried with the whole target group defenition, and all the different things that should be set.\n",
    "(One thing I realized in this was that the classic LB, does not include this target groups as there is in the new LBs for http and https. the one for https does not allow to include any target groups that has grpc protocol.)\n",
    "so I guess no use to try with any LBs with http type listeners.\n",
    "\n",
    "alright, going back to the https LB"
   ],
   "cell_type": "markdown",
   "metadata": {}
  },
  {
   "source": [
    "## Set Up Load Balancer with HTTPS Listener"
   ],
   "cell_type": "markdown",
   "metadata": {}
  },
  {
   "source": [
    "okay so it seemed that I needed to have a domain to make this https load balancer set up.\n",
    "here I had two questions, how I can get a domain (for free or cheap) and second how does that domain even comes useful and relevant in the end-2-end process?\n",
    "\n",
    "Again searching for these brings up a bunch of aws pages which was mostly confusing. I found this one helpfull for the second question at least:\n",
    "https://www.youtube.com/watch?v=QA4X8ntcNBQ\n",
    "\n",
    "going back to the first question ( a 20$ question for me :)\n",
    "\n",
    "well looks like we need to have a domain to setup the alb with https listener.\n",
    "the domain should allow for adding  certain CNAME record to the DNS configuration for your domain. \n",
    "so I needed some domain provider that is allowing that:\n",
    "So far I found these three to be good options:\n",
    "\n",
    "https://www.namecheap.com/ \n",
    "\n",
    "https://domains.google.com/\n",
    "\n",
    "https://profreehost.com/\n",
    "\n",
    "\n",
    "well I tried with the first one and proceeded with the process of ACM certificate issue. I did not go smoothly so I decided to go with the google one, just to realize that same issue will be faced.\n",
    "Now I should cover a few points that was painfull to realize about the way to set up the certificate.\n",
    "Here there"
   ],
   "cell_type": "markdown",
   "metadata": {}
  },
  {
   "source": [
    "## Revise the greeter service and build service container"
   ],
   "cell_type": "markdown",
   "metadata": {}
  },
  {
   "source": [
    "okay I set up the greeter servicer and greeter clients in seperate containers and ran a local test with a docker-compose "
   ],
   "cell_type": "markdown",
   "metadata": {}
  },
  {
   "source": [
    "## load the image to the ECR"
   ],
   "cell_type": "markdown",
   "metadata": {}
  },
  {
   "source": [
    "first needed to set up the aws cli on my machine:\n",
    "from here:\n",
    "https://docs.aws.amazon.com/cli/latest/userguide/install-cliv2-mac.html\n",
    "\n",
    "\n",
    "then onto setup the ECR account, etc:\n",
    "from here:\n",
    "https://blog.dbi-services.com/how-to-push-an-image-into-amazon-ecr-with-docker/\n",
    "\n",
    "\n",
    "well did not work exactly as expetec:\n",
    "need to set up an IAM account.\n",
    "need to grant admin access.\n",
    "\n",
    "usefull links:\n",
    "https://docs.aws.amazon.com/AmazonECR/latest/userguide/getting-started-cli.html\n",
    "\n",
    "https://docs.aws.amazon.com/AmazonECR/latest/userguide/getting-started-console.html\n",
    "\n",
    "https://docs.aws.amazon.com/AmazonECR/latest/userguide/getting-started-cli.html\n",
    "\n",
    "https://docs.aws.amazon.com/AmazonECR/latest/userguide/Registries.html#registry_auth\n",
    "\n",
    "https://docs.aws.amazon.com/AmazonECR/latest/userguide/Registries.html#registry_auth\n",
    "\n",
    "https://forums.aws.amazon.com/thread.jspa?threadID=310448\n",
    "\n",
    "\n",
    "I was getting this error:\n",
    "\n",
    "An error occurred (InvalidClientTokenId) when calling the GetCallerIdentity operation: The security token included in the request is invalid.\n",
    "\n",
    "which was apparently because I had not setup the \"aws cofigure\" correctly.\n",
    "\n",
    "we can set that up in the local machine aws (as well as in the web aws cli), but the local one is the one that I needed.\n",
    "to properly do that we need to follow the instruction in the last link above.\n",
    "\n",
    "going to this \n",
    "https://console.aws.amazon.com/iam/\n",
    "\n",
    "and setup a permission policy and add the user to the policy and then generate access key ID and password.\n",
    "then add those to the cli \"Aws configure\" prompts.\n",
    "\n",
    "also noted that the instructions for tagging the docker container and pushing is actually for a private repository. for my case which was a public repo the correct commands was actually best found in the ecr repo auto generted codes:\n",
    "\n",
    "```\n",
    "aws ecr-public get-login-password --region us-east-1 | docker login --username AWS --password-stdin public.ecr.aws/p0c6a5h1\n",
    "\n",
    "docker tag greeter_server:latest public.ecr.aws/p0c6a5h1/greeter_server:latest\n",
    "\n",
    "docker push public.ecr.aws/p0c6a5h1/greeter_server:latest\n",
    "\n",
    "```\n",
    "\n",
    "okay now I have the server container in the ECR."
   ],
   "cell_type": "markdown",
   "metadata": {}
  },
  {
   "cell_type": "code",
   "execution_count": null,
   "metadata": {},
   "outputs": [],
   "source": []
  }
 ]
}