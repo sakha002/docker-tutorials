{
 "metadata": {
  "language_info": {
   "codemirror_mode": {
    "name": "ipython",
    "version": 3
   },
   "file_extension": ".py",
   "mimetype": "text/x-python",
   "name": "python",
   "nbconvert_exporter": "python",
   "pygments_lexer": "ipython3",
   "version": 3
  },
  "orig_nbformat": 2
 },
 "nbformat": 4,
 "nbformat_minor": 2,
 "cells": [
  {
   "source": [
    "# SetUp gRPC service with EC2"
   ],
   "cell_type": "markdown",
   "metadata": {}
  },
  {
   "source": [
    "okay so the goal is to have an active gRPC service within an EC2 instance, and make service calls from a local client.\n",
    "\n",
    "\n",
    "The main part to figure out is that since gRPC is serving via HTTP2, then it might be a bit different.\n",
    "Also I need to practice the basics of working with AWS EC2 as well. so let's see..."
   ],
   "cell_type": "markdown",
   "metadata": {}
  },
  {
   "source": [
    "okay the first step was to set up the simple grpc service and client that we need for testings.\n",
    "I created the codes for that and  built it with docker and tested it.\n",
    "\n",
    "in this effort one question that came up was that if I wanted to have an easy way to make this reproducable and easy to run like the way it is with docker, what would be the approach for the case of EC2? would it be possible or reasonable to install a docker inside the EC2\n",
    "just to use for building/running an image? I guess not.\n",
    "\n",
    "(BTW, [this](https://docs.aws.amazon.com/AmazonECS/latest/developerguide/docker-basics.html) shows how to install docker in an ec2)\n"
   ],
   "cell_type": "markdown",
   "metadata": {}
  },
  {
   "source": [
    "well it apears to me that this work of service setup has two parts. one part in transfering and setting up the code in the EC2 and the other part is configuring the EC2 instance connection settings, etc. I'm going to first try to focus on the first part.\n",
    "\n",
    "let's say I want to make an easy2run readme file here for all that is needed for ec2 to run. of course there are all those fancy k8s and pipelines to deploy the codes and images, but i want to stick to bare minimum. \n",
    "\n",
    "I guess it would start from git clone this repo.\n",
    "oh wait assuming that git is available, which i guess is not, \n",
    "I guess maybe could start from yum to install git.\n",
    "\n",
    "then python 3.7 is already installed. It should be good enough for this purpose, but what if I was really needing 3.8?\n"
   ],
   "cell_type": "markdown",
   "metadata": {}
  }
 ]
}