{
 "metadata": {
  "language_info": {
   "codemirror_mode": {
    "name": "ipython",
    "version": 3
   },
   "file_extension": ".py",
   "mimetype": "text/x-python",
   "name": "python",
   "nbconvert_exporter": "python",
   "pygments_lexer": "ipython3",
   "version": 3
  },
  "orig_nbformat": 2
 },
 "nbformat": 4,
 "nbformat_minor": 2,
 "cells": [
  {
   "source": [
    "# Summary of Experiments"
   ],
   "cell_type": "markdown",
   "metadata": {}
  },
  {
   "source": [
    "## gRPC service on AWS ECS with EC2 lunch type"
   ],
   "cell_type": "markdown",
   "metadata": {}
  },
  {
   "source": [
    "The good news is that most of the recepie can be used from here:\n",
    "\n",
    "https://dev.to/chaitan94/deploying-a-grpc-service-in-ecs-with-the-ec2-launch-type-2aa\n",
    "\n",
    "\n",
    "I am just going to cover what was missing or different.\n"
   ],
   "cell_type": "markdown",
   "metadata": {}
  },
  {
   "source": [
    "1- to push the image(s) into ECR I used this command:\n",
    "\n",
    "```\n",
    "aws ecr-public get-login-password --region us-east-1 | docker login --username AWS --password-stdin public.ecr.aws/p0c6a5h1\n",
    "docker tag greeter_server:latest public.ecr.aws/p0c6a5h1/greeter_server:latest\n",
    "docker push public.ecr.aws/p0c6a5h1/greeter_server:latest\n",
    "```\n",
    "\n",
    "first need to create a repository on ECR. The push commands can be get from there.\n",
    "\n",
    "\n",
    "2- Step3: It seems that AWS has changed the requirments and settings of ECS clusters with EC2 lunch types.\n",
    "The step three will not work as it is.\n",
    "I changed the port mapping to 50051:50051\n",
    "The networking type should be set as Brdige (which is the default option as well)\n",
    "\n",
    "3- Step 4: I had to change the Target Group to HTTP with 50051 as port and gRPC as protcol version\n",
    "\n",
    "4- To Create a Load Balancer (and arguablly this was the hardest part) with HTTPS listener, we need to buy/register a domain.\n",
    "I got a domain from google domains, and next used ACM to issue a https certificate for it. More on this comes next.\n",
    "\n",
    "5- for the load balancer in View/edit rules, for the listener I changed to \"HTTPS : 50051\". (I guess this is not a deal braker)\n",
    "Also, It is really important that all of the resources that we define are in the same VPC and subnets.\n",
    "\n",
    "6- In the cluster creation, cluster should be in the same VPC and have Same security group as ALB.\n",
    "\n",
    "7- Step5 of tut;  this particular section is not valid any more:\n",
    "\n",
    "> Create a new security group. (or select an existing one, if you already have one. Make sure 50051 port is allowed in the inbound rules.\n",
    "Choose Edit next to Security groups.\n",
    "For Inbound rules for security group, change the Type to Custom TCP and set the Port range to 50051. (Note: This is a bad security posture and only permissible for this demo. Your application should have more strict security rules.)\n",
    "\n",
    "8- for the production listener port I chose:  \"50051:HTTPS\".\n",
    "\n",
    "9- The target group as well was selected the same target group that was defined before.\n",
    "\n",
    "\n"
   ],
   "cell_type": "markdown",
   "metadata": {}
  },
  {
   "source": [
    "## Setup of Domain on Google Domain and Connection to AWS ALB"
   ],
   "cell_type": "markdown",
   "metadata": {}
  },
  {
   "source": [
    "1- after buying the domain in google domains, we need to go to ACM (in the ALB HTTPS listerner creation you are routed to ACM as well)\n",
    "\n",
    "2- in the issue certificte section, chose the certificate with DNS option.\n",
    "\n",
    "3- Important: provide the name of a sub-domain not the main domain. for example if the domain name is example.come,  provide a name like app.example.come.\n",
    "This name does not have to be created or configured in the google side yet.\n",
    "\n",
    "4- when ACM provides the CNAME record, it is in the form of _8ca938b1b9f418cc2eeqeq3e.app.example.com.\n",
    "in the google domain, DNS section, we need to add a CNAME record. The record must be corrected in this form:\n",
    "_8ca938b1b9f418cda6d81826.app (i.e. the example.com. pieace in the end should be removed)\n",
    "the CNAME Value will not change.\n",
    "\n",
    "5- it will take a few minutes to have this record propagated. can use this link to see the status:\n",
    "https://www.whatsmydns.net/#NS/boarlabs.net\n",
    "\n",
    "6- After ACM issued the certificate, you would proceed with ALB creation, and will assign the certificate in the process.\n",
    "\n",
    "7- after ALB is created it will have a description section, in which the DNS records is given\n",
    "> DNS xxxxxxxxxxx.us-east-2.elb.amazonaws.com \n",
    "(A Record)\n",
    "\n",
    "8 - will need to copy this address and place it in the DNS section of the google domain.\n",
    "an easy way is to create another CNAME record that \n",
    "has \n",
    "Name = app  and the Value = ( The A record coppied from AWS above)"
   ],
   "cell_type": "markdown",
   "metadata": {}
  },
  {
   "source": [
    "## AWS gRPC service with Fargate lunch type:"
   ],
   "cell_type": "markdown",
   "metadata": {}
  },
  {
   "source": [
    "This one is arguably much simpler, but seems to be more expensive option.\n",
    "the best links to follow for this are:\n",
    "\n",
    "https://aws.amazon.com/blogs/aws/new-application-load-balancer-support-for-end-to-end-http-2-and-grpc/\n",
    "\n",
    "I followed the most of each exactly as it says. Only for ALB need to repeat the steps in above to connect it to the ALB.\n",
    "potentially one could use the same ALB, just add different HTTPS listeners on different ports, or different IF/Then Rules.\n"
   ],
   "cell_type": "markdown",
   "metadata": {}
  }
 ]
}